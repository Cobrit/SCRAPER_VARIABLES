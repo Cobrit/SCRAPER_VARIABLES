{
 "cells": [
  {
   "cell_type": "code",
   "execution_count": 1,
   "metadata": {},
   "outputs": [],
   "source": [
    "import pandas as pd"
   ]
  },
  {
   "cell_type": "code",
   "execution_count": 2,
   "metadata": {},
   "outputs": [],
   "source": [
    "df = pd.read_csv(\"IFT.csv\")"
   ]
  },
  {
   "cell_type": "code",
   "execution_count": 3,
   "metadata": {},
   "outputs": [],
   "source": [
    "df = df.drop(df.index[48:])\n",
    "# Reajusta el índice para que comience desde 0\n",
    "df = df.reset_index(drop=True)"
   ]
  },
  {
   "cell_type": "code",
   "execution_count": 4,
   "metadata": {},
   "outputs": [
    {
     "name": "stderr",
     "output_type": "stream",
     "text": [
      "C:\\Users\\polit\\AppData\\Local\\Temp\\ipykernel_14340\\2018972056.py:6: SettingWithCopyWarning: \n",
      "A value is trying to be set on a copy of a slice from a DataFrame.\n",
      "Try using .loc[row_indexer,col_indexer] = value instead\n",
      "\n",
      "See the caveats in the documentation: https://pandas.pydata.org/pandas-docs/stable/user_guide/indexing.html#returning-a-view-versus-a-copy\n",
      "  df_sin_encabezado['Valores'] = df_sin_encabezado['Texto'].str.extract(r'(\\d[\\d. \\s]+)')\n"
     ]
    }
   ],
   "source": [
    "# Elimina la primera fila, que contiene el encabezado, y guarda el resultado en un nuevo DataFrame\n",
    "df_sin_encabezado = df.iloc[1:]\n",
    "\n",
    "# Ahora puedes aplicar tu segundo código al DataFrame df_sin_encabezado\n",
    "# Extrae la columna 'Valores'\n",
    "df_sin_encabezado['Valores'] = df_sin_encabezado['Texto'].str.extract(r'(\\d[\\d. \\s]+)')\n",
    "# Dividir la columna 'Valores' en múltiples columnas usando espacios en blanco como separadores\n",
    "columnas_valores = df_sin_encabezado['Valores'].str.split(expand=True)\n",
    "\n",
    "# Eliminar filas que contienen valores NaN (en este caso, la fila que contiene \"Na\")\n",
    "columnas_valores = columnas_valores.dropna()\n",
    "\n",
    "columnas_valores = columnas_valores.dropna(axis=0, how='any')\n",
    "\n",
    "# Ahora tienes el DataFrame df_sin_encabezado con la primera fila eliminada\n",
    "# y columnas_valores calculado sin incluir esa fila.\n"
   ]
  },
  {
   "cell_type": "code",
   "execution_count": null,
   "metadata": {},
   "outputs": [],
   "source": [
    "column_names = df.iloc[0]\n",
    "columnas_divididas = column_names.str.split(expand=True)\n",
    "# Agrega una columna vacía llamada \"Estado\" al principio\n",
    "columnas_divididas.insert(0, \"Estado\", \"\")"
   ]
  },
  {
   "cell_type": "code",
   "execution_count": null,
   "metadata": {},
   "outputs": [],
   "source": [
    "print(columnas_divididas)"
   ]
  },
  {
   "cell_type": "code",
   "execution_count": null,
   "metadata": {},
   "outputs": [],
   "source": [
    "df['Estado'] = (df['Texto'].str.extract('([^0-9]+)')) "
   ]
  },
  {
   "cell_type": "code",
   "execution_count": null,
   "metadata": {},
   "outputs": [],
   "source": [
    "print(df['Estado'])"
   ]
  },
  {
   "cell_type": "code",
   "execution_count": null,
   "metadata": {},
   "outputs": [],
   "source": [
    "# Extrae la columna 'Valores'\n",
    "df['Valores'] = df['Texto'].str.extract(r'(\\d[\\d. \\s]+)')\n",
    "# Dividir la columna 'Valores' en múltiples columnas usando espacios en blanco como separadores\n",
    "columnas_valores = df['Valores'].str.split(expand=True)\n",
    "\n",
    "# Eliminar filas que contienen valores NaN (en este caso, la fila que contiene \"Na\")\n",
    "columnas_valores = columnas_valores.dropna()\n",
    "\n",
    "columnas_valores = columnas_valores.dropna(axis=0, how='any')"
   ]
  },
  {
   "cell_type": "code",
   "execution_count": null,
   "metadata": {},
   "outputs": [],
   "source": [
    "print(columnas_valores)"
   ]
  }
 ],
 "metadata": {
  "kernelspec": {
   "display_name": "variables",
   "language": "python",
   "name": "python3"
  },
  "language_info": {
   "codemirror_mode": {
    "name": "ipython",
    "version": 3
   },
   "file_extension": ".py",
   "mimetype": "text/x-python",
   "name": "python",
   "nbconvert_exporter": "python",
   "pygments_lexer": "ipython3",
   "version": "3.11.4"
  },
  "orig_nbformat": 4
 },
 "nbformat": 4,
 "nbformat_minor": 2
}
